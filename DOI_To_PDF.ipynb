{
  "nbformat": 4,
  "nbformat_minor": 0,
  "metadata": {
    "colab": {
      "provenance": [],
      "authorship_tag": "ABX9TyNJFadjF5ziviSurbl21U8G",
      "include_colab_link": true
    },
    "kernelspec": {
      "name": "python3",
      "display_name": "Python 3"
    },
    "language_info": {
      "name": "python"
    }
  },
  "cells": [
    {
      "cell_type": "markdown",
      "metadata": {
        "id": "view-in-github",
        "colab_type": "text"
      },
      "source": [
        "<a href=\"https://colab.research.google.com/github/Ajay07pandey/DOI-Number-To-PDF/blob/main/DOI_To_PDF.ipynb\" target=\"_parent\"><img src=\"https://colab.research.google.com/assets/colab-badge.svg\" alt=\"Open In Colab\"/></a>"
      ]
    },
    {
      "cell_type": "code",
      "source": [
        "import pandas as pd\n",
        "import requests\n",
        "from bs4 import BeautifulSoup\n",
        "from urllib.parse import urljoin\n",
        "import os\n",
        "\n",
        "def download_pdf(base_url, doi_number, title):\n",
        "    website_link = urljoin(base_url, doi_number)\n",
        "    save_folder = \"/content/New folder\"\n",
        "\n",
        "    try:\n",
        "        response = requests.get(website_link)\n",
        "        response.raise_for_status()\n",
        "        soup = BeautifulSoup(response.content, 'html.parser')\n",
        "\n",
        "        try:\n",
        "            button_tag = soup.find('div', id='buttons').find('button')\n",
        "        except AttributeError:\n",
        "            print(f\"This DOI not present in scihub: {doi_number}\")\n",
        "            return\n",
        "\n",
        "        if button_tag and 'onclick' in button_tag.attrs:\n",
        "            onclick_attr = button_tag['onclick']\n",
        "            pdf_url = urljoin(website_link, onclick_attr.split(\"'\")[1])\n",
        "\n",
        "            pdf_response = requests.get(pdf_url)\n",
        "            pdf_response.raise_for_status()\n",
        "\n",
        "            filename = f\"{title}.pdf\"\n",
        "            save_path = os.path.join(save_folder, filename)\n",
        "\n",
        "            with open(save_path, \"wb\") as f:\n",
        "                f.write(pdf_response.content)\n",
        "            print(f\"PDF downloaded successfully: {filename}\")\n",
        "        else:\n",
        "            print(f\"Unable to download {doi_number}\")\n",
        "    except requests.RequestException as e:\n",
        "        print(f\"Error downloading PDF for DOI {doi_number}: {e}\")\n",
        "\n",
        "def main(input_filename):\n",
        "    # Read the Excel file\n",
        "    df = pd.read_excel(input_filename)\n",
        "\n",
        "    # Download PDFs for each DOI number with corresponding file names\n",
        "    base_url = \"https://sci-hub.se/\"\n",
        "    for index, row in df.iterrows():\n",
        "        doi = str(row['DOI'])\n",
        "        title = str(row['Title'])\n",
        "        download_pdf(base_url, doi, title)\n",
        "\n",
        "if __name__ == \"__main__\":\n",
        "    # Specify the input file\n",
        "    input_filename = \"/content/Doi_number_file.xlsx\"  # Change this to your input Excel file\n",
        "\n",
        "    # Run the main function\n",
        "    main(input_filename)\n"
      ],
      "metadata": {
        "id": "nQaT1iEvWezq"
      },
      "execution_count": null,
      "outputs": []
    }
  ]
}